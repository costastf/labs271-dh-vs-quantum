{
 "cells": [
  {
   "cell_type": "markdown",
   "metadata": {},
   "source": [
    "## Introduction\n",
    "\n",
    "In this lab exercise, we are going to create a program that will break Diffie Hellman (DH) keys. The reason why we use Diffie Hellman and not RSA is that standard RSA requires a key-length of 1024 bits, which currently will require a lot of compute and time to break and not feasible for this lab.\n",
    "The Diffie Hellman algorithm does not have this minimal requirement and \"works\" with smaller key-lengths. Smaller key-lengths \"work\" but that does not mean they are secure.\n",
    "\n",
    "**Note**: Please add/edit your code in test.py and run it via a Terminal\n",
    "\n",
    "### Alice & Bob\n",
    "Alice and Bob would like to exchange a sensitive message message.\n",
    "By generating a shared key using Diffie Hellman (DH) they are able to encrypt the sensitive message with their shared secret and prevent others from eaves dropping.\n",
    "\n",
    "### Generate initial keys\n",
    "There are specific requirements for DH thus we will write a program that will ensure this.\n",
    "\n",
    "Alice will start the process:\n",
    "* Alice generates *pubPrimeKey*, a public prime number and *pubBaseKey* a primitive root modulo of *pubPrimeKey*.\n",
    "\n",
    "#### General steps\n",
    "* Copy the code into `test.py`\n",
    "* This file has a reference to a library file `labfuncs.py` where the actual functions used are located\n",
    "* set a *bitSize* larger than 3\n",
    "* run the program: python `test.py`\n",
    "\n",
    "***NOTE***: Do not copy **def main():** line this is just there to prevent processing of the Jupyter Notebook \n"
   ]
  },
  {
   "cell_type": "code",
   "execution_count": 1,
   "metadata": {},
   "outputs": [],
   "source": [
    "def main():\n",
    "    bitSize = 4\n",
    "\n",
    "    pubBaseKey = -1\n",
    "    while (pubBaseKey < 0):\n",
    "        pubPrimeKey = randPrime(\"pubPrimeKey\", bitSize)\n",
    "        pubBaseKey  = findPrimitive(\"pubBaseKey\",pubPrimeKey)\n"
   ]
  },
  {
   "cell_type": "markdown",
   "metadata": {},
   "source": [
    "# Exchanging keys and generating private keys\n",
    "\n",
    "* Alice shares *pubPrimeKey*, a prime number and *pubBaseKey* in the clear with Bob \n",
    "* Alice and Bob both generate a personal secret key, based on the same *bitSize*. We make sure that *privA*, the secret key of Alice is not the same as *privB*, the secret key of Bob.\n",
    "* Alice and Bob both calculate their public key: *pubA* and *pubB*\n",
    "\n",
    "***NOTE***: Do not copy **def main():** line this is just there to prevent processing of the Jupyter Notebook \n"
   ]
  },
  {
   "cell_type": "code",
   "execution_count": 2,
   "metadata": {},
   "outputs": [],
   "source": [
    "def main():\n",
    "\n",
    "    # ...\n",
    "\n",
    "    secretA = randN(bitSize)\n",
    "    secretB = privA\n",
    "    while (secretA == privB):\n",
    "        privB = randN(bitSize)\n",
    "\n",
    "    print (\"private key of Alice:\", privA)\n",
    "    print (\"private key of Bob:\", privB)\n",
    "\n",
    "    pubA = calcKey(privA, pubBaseKey, pubPrimeKey)\n",
    "    pubB = calcKey(privB, pubBaseKey, pubPrimeKey)\n",
    "\n",
    "    print (\"Public key of Alice:\", pubA)\n",
    "    print (\"Public key of Bob:\", pubA)\n"
   ]
  },
  {
   "cell_type": "markdown",
   "metadata": {},
   "source": [
    "# Calculating the shared Secret\n",
    "In DH, the public and privates are *only* used to calculate the *sharedSecret*.\n",
    "This *sharedSecret* is not communicated between Alice and Bob, but only used to encrypt messages using another algorithm like AES.\n",
    "In RSA the public and private key can be used to exchange other messages, like a *sharedSecret* and thus is communicated over the path between Alice and Bob."
   ]
  },
  {
   "cell_type": "code",
   "execution_count": null,
   "metadata": {},
   "outputs": [],
   "source": [
    "def main():\n",
    "\n",
    "    # ...\n",
    "\n",
    "    sharedSecretA = calcKey(privA, pubB, pubPrimeKey)\n",
    "    sharedSecretB = calcKey(privB, pubA, pubPrimeKey)\n",
    "\n",
    "    if (sharedSecretA != sharedSecretB):\n",
    "        print(\"ERROR: Alice's & Bob's sharedSecret are not the same\")\n",
    "        exit()\n",
    "\n",
    "    print (\"Shared secret of Alice:\", sharedSecretA)\n",
    "    print (\"Shared secret of Bob:\", sharedSecretB)\n"
   ]
  },
  {
   "cell_type": "markdown",
   "metadata": {},
   "source": [
    "## Introducing Mallory\n",
    "Mallory has been able to listen in on the conversation between Alice and Bob.\n",
    "She has been able to collect the following public information exchanged:\n",
    "* Alice messages containing\n",
    "  * *pubPrimeKey* \n",
    "  * *pubBaseKey*\n",
    "  * Alice's public key *pubA*\n",
    "* Bob message containing\n",
    "  * Bob's public key *pubB*\n",
    "\n",
    "Malory will now try to calculate "
   ]
  },
  {
   "cell_type": "code",
   "execution_count": null,
   "metadata": {},
   "outputs": [],
   "source": [
    "def main():\n",
    "\n",
    "    # ...\n",
    "\n",
    "    malPrivKeyA, malPrivKeyB = findSecretKey(pubA, pubB,\n",
    "                                             pubPrimeKey, pubBaseKey)\n",
    "    \n",
    "    print (\"Malory determines ALlice's private key to be:\", malPrivKeyA)\n",
    "    print (\"Malory determines Bob's private key to be:\", malPrivKeyB)\n",
    "\n",
    "    malSharedSecretA = calcKey(malPrivKeyA, pubB, pubPrimeKey)\n",
    "    malSharedSecretB = calcKey(malPrivKeyB, pubA, pubPrimeKey)\n",
    "\n",
    "    print (\"Malory determines ALlice's shared secret to be:\", malSharedSecretA)\n",
    "    print (\"Malory determines Bob's shared secret to be:\", malSharedSecretB)\n"
   ]
  },
  {
   "cell_type": "markdown",
   "metadata": {},
   "source": [
    "## Malory's challenge\n",
    "The function *findSecretKey* that Malory uses to find the private keys of Alice and Bob is quite time consuming.\n",
    "\n",
    "    A = pubA\n",
    "    B = pubB\n",
    "    p = pubPrimeKey\n",
    "    g = pubBaseKey\n",
    "\n",
    "***QUESTION*** Which number could you use to speed up the search of this function?\n",
    "\n",
    "    def findSecretKey(A, B, p, g):\n",
    "        a, b = None, None\n",
    "        for x in range(1, p):\n",
    "            if (g ** x) % p == A:\n",
    "                a = x\n",
    "            if (g ** x) % p == B:\n",
    "                b = x\n",
    "        return a, b\n",
    "\n",
    "You are probably using small integers to perform these tasks and the process will become slower with *bitSize* increasing.\n",
    "We need Quantum computation to speed up the process of this discrete logarithm problem.\n",
    "\n",
    "Let's go to Lab2"
   ]
  }
 ],
 "metadata": {
  "kernelspec": {
   "display_name": "Python 3",
   "language": "python",
   "name": "python3"
  },
  "language_info": {
   "codemirror_mode": {
    "name": "ipython",
    "version": 3
   },
   "file_extension": ".py",
   "mimetype": "text/x-python",
   "name": "python",
   "nbconvert_exporter": "python",
   "pygments_lexer": "ipython3",
   "version": "3.12.0"
  }
 },
 "nbformat": 4,
 "nbformat_minor": 2
}
