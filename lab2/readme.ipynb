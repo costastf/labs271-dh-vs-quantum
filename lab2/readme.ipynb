{
 "cells": [
  {
   "cell_type": "markdown",
   "metadata": {},
   "source": [
    "## Shor's Algorithm\n",
    "\n",
    "Shor's algorithm is used to find prime factors of an integer. On a quantum computer, Shor's algorithm runs in polynomial time and is almost exponentially faster than the most efficient known classical factoring algorithm. The efficiency of Shor's algorithm is due to the efficiency of the Quantum Fourier transform, Quantum Phase estimation and modular exponentiation by repeated squarings. In this notebook, you implement the Shor's algorithm in code using the Amazon Braket SDK and run a simple example of factoring 15.\n",
    "\n",
    "## Implementation of Shor's algorithm\n",
    "This example provides an implementation of the Shor's algorithm using the Amazon Braket SDK. This has been installed in the preparation steps.\n",
    "\n",
    "### General steps\n",
    "* Copy the code into `test.py`\n",
    "* Any references/imports are of modules that have been installed prior to the start of this lab\n",
    "* Run the program: `python test.py` from a terminal to see the results"
   ]
  },
  {
   "cell_type": "code",
   "execution_count": 1,
   "metadata": {},
   "outputs": [],
   "source": [
    "from braket.devices import LocalSimulator\n",
    "from braket.aws import AwsDevice\n",
    "from braket.experimental.algorithms.shors.shors import (\n",
    "    shors_algorithm,\n",
    "    run_shors_algorithm,\n",
    "    get_factors_from_results\n",
    ")\n",
    "\n",
    "def main():\n",
    "    # Main function\n",
    "\n",
    "    #  #  # Place the other code here #  #  #\n",
    "\n",
    "    exit\n",
    "\n",
    "\n",
    "if __name__ == '__main__':\n",
    "    main()\n"
   ]
  },
  {
   "cell_type": "markdown",
   "metadata": {},
   "source": [
    "## Prepare inputs for Shor's Algorithm\n",
    "\n",
    "### Quantum computer's circuit\n",
    "To perform a computation of Shor's algorithm a quantum circuit is required. A quantum circuit is a model for quantum computation, similar to classical circuits, in which a computation is a sequence of quantum gates, measurements, initializations of qubits to known values, and possibly other actions.\n",
    "\n",
    "We create the circuit by calling the function `shors_algorithm`"
   ]
  },
  {
   "cell_type": "code",
   "execution_count": 2,
   "metadata": {},
   "outputs": [],
   "source": [
    "def main():\n",
    "\n",
    "    # ...\n",
    "    \n",
    "    N = 15 # Integer to factor (currently 15, 21, 35 work)\n",
    "    a = 7  # Any integer that satisfies 1 < a < N and gcd(a, N) = 1.\n",
    "\n",
    "    shors_circuit = shors_algorithm(N, a)"
   ]
  },
  {
   "cell_type": "markdown",
   "metadata": {},
   "source": [
    "## Run on a local simulator\n",
    "\n",
    "Now that we have a circuit we can run a local Quantum simulator"
   ]
  },
  {
   "cell_type": "code",
   "execution_count": null,
   "metadata": {},
   "outputs": [],
   "source": [
    "\n",
    "def main():\n",
    "\n",
    "    # ...\n",
    "\n",
    "    local_simulator = LocalSimulator()\n",
    "\n",
    "    output = run_shors_algorithm(shors_circuit, local_simulator)\n",
    "\n",
    "    guessed_factors = get_factors_from_results(output, N, a)\n",
    "\n",
    "    print(guessed_factors)"
   ]
  }
 ],
 "metadata": {
  "kernelspec": {
   "display_name": "Python 3 (ipykernel)",
   "language": "python",
   "name": "python3"
  },
  "language_info": {
   "codemirror_mode": {
    "name": "ipython",
    "version": 3
   },
   "file_extension": ".py",
   "mimetype": "text/x-python",
   "name": "python",
   "nbconvert_exporter": "python",
   "pygments_lexer": "ipython3",
   "version": "3.10.8"
  },
  "vscode": {
   "interpreter": {
    "hash": "5904cb9a2089448a2e1aeb5d493d227c9de33e591d7c07e4016fb81e71061a5d"
   }
  }
 },
 "nbformat": 4,
 "nbformat_minor": 2
}
